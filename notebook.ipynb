{
 "cells": [
  {
   "cell_type": "code",
   "execution_count": 1,
   "source": [
    "import numpy as np \r\n",
    "import pandas as pd\r\n",
    "import gzip"
   ],
   "outputs": [],
   "metadata": {}
  },
  {
   "cell_type": "code",
   "execution_count": 7,
   "source": [
    "def parse(path):\r\n",
    "  g = gzip.open(path, 'r')\r\n",
    "  for l in g:\r\n",
    "    yield eval(l)\r\n",
    "\r\n",
    "data = []\r\n",
    "for review in parse('reviews_Musical_Instruments_5.json.gz'):\r\n",
    "    data.append([review['reviewText'], review['overall']])\r\n",
    "df = pd.DataFrame(data, columns=[\"Review_text\", \"Review_class\"])\r\n",
    "df"
   ],
   "outputs": [
    {
     "output_type": "execute_result",
     "data": {
      "text/plain": [
       "                                             Review_text  Review_class\n",
       "0      Not much to write about here, but it does exac...           5.0\n",
       "1      The product does exactly as it should and is q...           5.0\n",
       "2      The primary job of this device is to block the...           5.0\n",
       "3      Nice windscreen protects my MXL mic and preven...           5.0\n",
       "4      This pop filter is great. It looks and perform...           5.0\n",
       "...                                                  ...           ...\n",
       "10256            Great, just as expected.  Thank to all.           5.0\n",
       "10257  I've been thinking about trying the Nanoweb st...           5.0\n",
       "10258  I have tried coated strings in the past ( incl...           4.0\n",
       "10259  Well, MADE by Elixir and DEVELOPED with Taylor...           4.0\n",
       "10260  These strings are really quite good, but I wou...           4.0\n",
       "\n",
       "[10261 rows x 2 columns]"
      ],
      "text/html": [
       "<div>\n",
       "<style scoped>\n",
       "    .dataframe tbody tr th:only-of-type {\n",
       "        vertical-align: middle;\n",
       "    }\n",
       "\n",
       "    .dataframe tbody tr th {\n",
       "        vertical-align: top;\n",
       "    }\n",
       "\n",
       "    .dataframe thead th {\n",
       "        text-align: right;\n",
       "    }\n",
       "</style>\n",
       "<table border=\"1\" class=\"dataframe\">\n",
       "  <thead>\n",
       "    <tr style=\"text-align: right;\">\n",
       "      <th></th>\n",
       "      <th>Review_text</th>\n",
       "      <th>Review_class</th>\n",
       "    </tr>\n",
       "  </thead>\n",
       "  <tbody>\n",
       "    <tr>\n",
       "      <th>0</th>\n",
       "      <td>Not much to write about here, but it does exac...</td>\n",
       "      <td>5.0</td>\n",
       "    </tr>\n",
       "    <tr>\n",
       "      <th>1</th>\n",
       "      <td>The product does exactly as it should and is q...</td>\n",
       "      <td>5.0</td>\n",
       "    </tr>\n",
       "    <tr>\n",
       "      <th>2</th>\n",
       "      <td>The primary job of this device is to block the...</td>\n",
       "      <td>5.0</td>\n",
       "    </tr>\n",
       "    <tr>\n",
       "      <th>3</th>\n",
       "      <td>Nice windscreen protects my MXL mic and preven...</td>\n",
       "      <td>5.0</td>\n",
       "    </tr>\n",
       "    <tr>\n",
       "      <th>4</th>\n",
       "      <td>This pop filter is great. It looks and perform...</td>\n",
       "      <td>5.0</td>\n",
       "    </tr>\n",
       "    <tr>\n",
       "      <th>...</th>\n",
       "      <td>...</td>\n",
       "      <td>...</td>\n",
       "    </tr>\n",
       "    <tr>\n",
       "      <th>10256</th>\n",
       "      <td>Great, just as expected.  Thank to all.</td>\n",
       "      <td>5.0</td>\n",
       "    </tr>\n",
       "    <tr>\n",
       "      <th>10257</th>\n",
       "      <td>I've been thinking about trying the Nanoweb st...</td>\n",
       "      <td>5.0</td>\n",
       "    </tr>\n",
       "    <tr>\n",
       "      <th>10258</th>\n",
       "      <td>I have tried coated strings in the past ( incl...</td>\n",
       "      <td>4.0</td>\n",
       "    </tr>\n",
       "    <tr>\n",
       "      <th>10259</th>\n",
       "      <td>Well, MADE by Elixir and DEVELOPED with Taylor...</td>\n",
       "      <td>4.0</td>\n",
       "    </tr>\n",
       "    <tr>\n",
       "      <th>10260</th>\n",
       "      <td>These strings are really quite good, but I wou...</td>\n",
       "      <td>4.0</td>\n",
       "    </tr>\n",
       "  </tbody>\n",
       "</table>\n",
       "<p>10261 rows × 2 columns</p>\n",
       "</div>"
      ]
     },
     "metadata": {},
     "execution_count": 7
    }
   ],
   "metadata": {}
  },
  {
   "cell_type": "code",
   "execution_count": 8,
   "source": [
    "import re\r\n",
    "import nltk\r\n",
    "import string\r\n",
    "from nltk.tokenize import word_tokenize\r\n",
    "from nltk.corpus import stopwords\r\n",
    "from nltk.stem.porter import PorterStemmer"
   ],
   "outputs": [],
   "metadata": {}
  },
  {
   "cell_type": "code",
   "execution_count": 14,
   "source": [
    "def clean_line(text):\r\n",
    "    text = text.lower()\r\n",
    "    pattern = re.compile('http[s]?://(?:[a-zA-Z]|[0-9]|[$-_@.&+]|[!*\\(\\),]|(?:%[0-9a-fA-F][0-9a-fA-F]))+')\r\n",
    "    text = pattern.sub('', text)\r\n",
    "    text = re.sub(r\"[,.\\\"!@#$%^&*(){}?/;`~:<>+=-]\", \"\", text)\r\n",
    "    tokens = word_tokenize(text)\r\n",
    "    table = str.maketrans('', '', string.punctuation)\r\n",
    "    stripped = [w.translate(table) for w in tokens]\r\n",
    "    words = [word for word in stripped if word.isalpha()]\r\n",
    "    stop_words = set(stopwords.words(\"english\"))\r\n",
    "    stop_words.discard(\"not\")\r\n",
    "    PS = PorterStemmer()\r\n",
    "    words = [PS.stem(w) for w in words if not w in stop_words]\r\n",
    "    words = ' '.join(words)\r\n",
    "    return words\r\n",
    "\r\n",
    "def clean_text(df):\r\n",
    "    all_reviews = list()\r\n",
    "    lines = df[\"Review_text\"].values.tolist()\r\n",
    "    for text in lines:\r\n",
    "        all_reviews.append(clean_line(text))\r\n",
    "    return all_reviews\r\n",
    "\r\n",
    "all_reviews = clean_text(df)"
   ],
   "outputs": [],
   "metadata": {}
  },
  {
   "cell_type": "code",
   "execution_count": 15,
   "source": [
    "all_reviews[0:20]"
   ],
   "outputs": [
    {
     "output_type": "execute_result",
     "data": {
      "text/plain": [
       "['not much write exactli suppos filter pop sound record much crisp one lowest price pop filter amazon might well buy honestli work despit price',\n",
       " 'product exactli quit affordablei not realiz doubl screen arriv even better expecteda ad bonu one screen carri small hint smell old grape candi use buy reminisc sake not stop put pop filter next nose smell record dif need pop filter work well expens one may even come pleas aroma like mine didbuy product',\n",
       " 'primari job devic block breath would otherwis produc pop sound allow voic pass notic reduct volum high frequenc doubl cloth filter block pop let voic color metal clamp mount attach mike stand secur enough keep attach goos neck need littl coax stay put',\n",
       " 'nice windscreen protect mxl mic prevent pop thing gooseneck margin abl hold screen posit requir care posit clamp avoid sag',\n",
       " 'pop filter great look perform like studio filter record vocal elimin pop get record sing',\n",
       " 'good bought anoth one love heavi cord gold connector bass sound great learn last night coil guess read instruct care harm done still work great',\n",
       " 'use monster cabl year good reason lifetim warranti worth price alon simpl fact cabl break get replac cost',\n",
       " 'use cabl run output pedal chain input fender amp bought monster cabl hook pedal board thought would tri anoth one updat guitar use high end planet wave cabl bought found input jack new monster cabl nt fit fender strat jack littl disappoint nt return state use output pedal board save money went back planet wave cablei pay back eighti planet wave come around get get pay thought wave lot money back daybut nt bought guitar cabl sinc plu year still workingplanet wave win',\n",
       " 'perfect epiphon sheraton ii monster cabl well construct sever never problem year got one want degre plug',\n",
       " 'monster make best cabl lifetim warranti doesnt hurt either isnt top line seri work great bass guitar rig time cant go wrong monster cabl',\n",
       " 'monster make wide array cabl includ high end initi purchas pair ofmonst rock instrument cabl feet angl straight plugto use keyboard came time purchas cabl bass guitar thought pinch penni glad didi compar cabl model expens model previous purchas asid look could not detect differ sound swap back forth guitar keyboard ensur model use instrument still differencewhat expens model go look not sure higher price model even sturdi mold stress relief end model seem make reliabl pricier siblingbottom line care compar cabl use instrument amp possibl make purchas decis may find higher price not necessarili equal higher valu even manufactur',\n",
       " 'got need found nt realli need often rare use realli good see need keyboard not organ',\n",
       " 'not use use larg sustain pedal play piano may appear littl awkward',\n",
       " 'love use yamaha work great would recommend anyon',\n",
       " 'bought use home studio control midi keyboard want',\n",
       " 'bought use keyboard nt realli awar option keyboard pedal nt work smoothli pedal acoust piano alway use nt feel either nowher closein opinion sustain pedal like maudio sustain pedal piano style action similar pedal much better choic price differ dollar feel action much better thing found yamaha sustain pedal good take space drawer keep electr guitar pedal',\n",
       " 'fender cabl perfect length sometim find bit long nt mind build qualiti great know last gripe cabl metal sleev get unscrew way easili requir tighten oftensound qualiti not affect color cool definit tri cabl',\n",
       " 'want look aloneit nice look cord know performa sam ash cord pack mailer insid anoth box roc n soc ship team great worknev complaint love sam ash thank amazon',\n",
       " 'use cabl month hold pretti well year use seemingli indestruct guitar cabl made electrician friend final gave got habit use nonam cabl alway display near regist guitar center realli impuls buy someth put thought third fourth guitar center cabl fail light use decid tri cabl not cheaper seem hold better not terribl hard gear cabl tend get twist move around cheaper one eventu fail midcabl nt mind spend extra dollar cabl littl durabl cabl actual cheaper ship hold pretti well actual reason price cabl kind limit life warante product nt need five star nice made foot guitar cabl cost shippedincident cabl shield meant connect instrument amp input not use connect amplifi speaker cab want use unshield cabl purposeedit month pass cabl function without issu price thing gone significantli although cabl highli recommend probabl better valu hosa monster planet wave',\n",
       " 'fender cord look great work well ad word california descript sure sound like beach boy']"
      ]
     },
     "metadata": {},
     "execution_count": 15
    }
   ],
   "metadata": {}
  },
  {
   "cell_type": "code",
   "execution_count": 36,
   "source": [
    "from sklearn.feature_extraction.text import TfidfVectorizer\r\n",
    "TV = TfidfVectorizer(min_df=3)\r\n",
    "X = TV.fit_transform(all_reviews).toarray()\r\n",
    "y = (df.to_numpy()[:,1]).astype('double')\r\n",
    "print(np.shape(X))\r\n",
    "print(np.shape(y))"
   ],
   "outputs": [
    {
     "output_type": "stream",
     "name": "stdout",
     "text": [
      "(10261, 5794)\n",
      "(10261,)\n"
     ]
    }
   ],
   "metadata": {}
  },
  {
   "cell_type": "code",
   "execution_count": 37,
   "source": [
    "\r\n",
    "from sklearn.model_selection import train_test_split\r\n",
    "X_train, X_test, y_train, y_test = train_test_split(X, y, test_size = 0.2, random_state = 42)\r\n",
    "\r\n",
    "# from sklearn.tree import DecisionTreeClassifier\r\n",
    "# model = DecisionTreeClassifier(criterion=\"entropy\", random_state=41)\r\n",
    "from sklearn.naive_bayes import GaussianNB\r\n",
    "model = GaussianNB()\r\n",
    "model.fit(X_train,y_train)\r\n",
    "\r\n",
    "y_pred = model.predict(X_test)\r\n",
    "\r\n",
    "from sklearn.metrics import accuracy_score, f1_score, precision_score\r\n",
    "print(accuracy_score(y_test, y_pred))\r\n",
    "# print(f1_score(y_test, y_pred))\r\n",
    "# print(precision_score(y_test, y_pred))"
   ],
   "outputs": [
    {
     "output_type": "stream",
     "name": "stdout",
     "text": [
      "0.2990745250852411\n"
     ]
    }
   ],
   "metadata": {}
  },
  {
   "cell_type": "code",
   "execution_count": 61,
   "source": [
    "def sentiment_predictor(text):\r\n",
    "    text = clean_line(text)\r\n",
    "    # print(text)\r\n",
    "    text = TV.transform([text]).toarray()\r\n",
    "    return model.predict(text)"
   ],
   "outputs": [],
   "metadata": {}
  },
  {
   "cell_type": "code",
   "execution_count": 62,
   "source": [
    "inputFile = open(\"input.txt\", \"r\")\r\n",
    "inputText = str(inputFile.read())\r\n",
    "print(sentiment_predictor(inputText))"
   ],
   "outputs": [
    {
     "output_type": "stream",
     "name": "stdout",
     "text": [
      "[5.]\n"
     ]
    }
   ],
   "metadata": {}
  },
  {
   "cell_type": "code",
   "execution_count": 69,
   "source": [
    "sentenceList = []\r\n",
    "for sampleText in inputText.split(\".\"):\r\n",
    "    sentenceList.append(sentiment_predictor(sampleText)[0])\r\n",
    "sentenceList = [int(txt) for txt in sentenceList]\r\n",
    "sentenceList"
   ],
   "outputs": [
    {
     "output_type": "execute_result",
     "data": {
      "text/plain": [
       "[1, 1, 1, 4, 5, 1, 1, 5, 5, 2, 5, 2, 3, 1, 5, 5, 5, 1, 1, 5, 5, 5, 5, 4, 5, 1]"
      ]
     },
     "metadata": {},
     "execution_count": 69
    }
   ],
   "metadata": {}
  },
  {
   "cell_type": "code",
   "execution_count": 72,
   "source": [
    "print(\"average: \" + str(sum(sentenceList) / len(sentenceList)))\r\n",
    "from collections import Counter\r\n",
    "print(Counter(sentenceList))"
   ],
   "outputs": [
    {
     "output_type": "stream",
     "name": "stdout",
     "text": [
      "average: 3.230769230769231\n",
      "Counter({5: 12, 1: 9, 4: 2, 2: 2, 3: 1})\n"
     ]
    }
   ],
   "metadata": {}
  }
 ],
 "metadata": {
  "orig_nbformat": 4,
  "language_info": {
   "name": "python",
   "version": "3.9.4",
   "mimetype": "text/x-python",
   "codemirror_mode": {
    "name": "ipython",
    "version": 3
   },
   "pygments_lexer": "ipython3",
   "nbconvert_exporter": "python",
   "file_extension": ".py"
  },
  "kernelspec": {
   "name": "python3",
   "display_name": "Python 3.9.4 64-bit"
  },
  "interpreter": {
   "hash": "ac59ebe37160ed0dfa835113d9b8498d9f09ceb179beaac4002f036b9467c963"
  }
 },
 "nbformat": 4,
 "nbformat_minor": 2
}